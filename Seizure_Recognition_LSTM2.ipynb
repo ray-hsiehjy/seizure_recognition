{
  "nbformat": 4,
  "nbformat_minor": 0,
  "metadata": {
    "kernelspec": {
      "name": "python3",
      "display_name": "Python 3"
    },
    "language_info": {
      "codemirror_mode": {
        "name": "ipython",
        "version": 3
      },
      "file_extension": ".py",
      "mimetype": "text/x-python",
      "name": "python",
      "nbconvert_exporter": "python",
      "pygments_lexer": "ipython3",
      "version": "3.7.4"
    },
    "colab": {
      "name": "Seizure_Recognition_LSTM2.ipynb",
      "provenance": [],
      "collapsed_sections": [],
      "toc_visible": true,
      "include_colab_link": true
    },
    "accelerator": "GPU"
  },
  "cells": [
    {
      "cell_type": "markdown",
      "metadata": {
        "id": "view-in-github",
        "colab_type": "text"
      },
      "source": [
        "<a href=\"https://colab.research.google.com/github/ray-hsiehjy/seizure_recognition/blob/master/Seizure_Recognition_LSTM2.ipynb\" target=\"_parent\"><img src=\"https://colab.research.google.com/assets/colab-badge.svg\" alt=\"Open In Colab\"/></a>"
      ]
    },
    {
      "cell_type": "markdown",
      "metadata": {
        "id": "8smMkf9lYW8-",
        "colab_type": "text"
      },
      "source": [
        "# Data Source\n",
        "\n",
        "More details on the data can be found at: [UCI Machine Learning Repository](https://archive.ics.uci.edu/ml/datasets/Epileptic+Seizure+Recognition), the original data source.\n"
      ]
    },
    {
      "cell_type": "code",
      "metadata": {
        "id": "JBcyrptHY4iN",
        "colab_type": "code",
        "colab": {
          "base_uri": "https://localhost:8080/",
          "height": 70
        },
        "outputId": "37380a39-6920-4b58-efef-033873f2624e"
      },
      "source": [
        "# download data\n",
        "!curl -O https://archive.ics.uci.edu/ml/machine-learning-databases/00388/data.csv"
      ],
      "execution_count": 1,
      "outputs": [
        {
          "output_type": "stream",
          "text": [
            "  % Total    % Received % Xferd  Average Speed   Time    Time     Time  Current\n",
            "                                 Dload  Upload   Total   Spent    Left  Speed\n",
            "100 7456k  100 7456k    0     0  3796k      0  0:00:01  0:00:01 --:--:-- 3794k\n"
          ],
          "name": "stdout"
        }
      ]
    },
    {
      "cell_type": "markdown",
      "metadata": {
        "id": "6KeA2vYYFEe2",
        "colab_type": "text"
      },
      "source": [
        "## Data information\n",
        "- The dataset is preprocessed and ready to use\n",
        "    - Brain EEG recordings from 500 subjects \n",
        "    - Each subject was recorded for ~23 seconds at ~178Hz acquisition rate\n",
        "\n",
        "- Samples are in one-second chuck (178 timesteps)\n",
        "    - samples = 11500 (23 second * 500 subjects)\n",
        "    - Tx=178 timesteps at 178Hz (each sample is a 1 second EEG recording)\n",
        "    - feature = 1 dim vector (EEG readout number, in micro-volt)\n",
        "\n",
        "- Label y (categorical: 1, 2, 3, 4, 5)\n",
        "    - shape (sample, 1), last column of the CSV\n",
        "    - 5 - Eyes open, means when they were recording the EEG signal of the brain the patient had their eyes open\n",
        "    - 4 - Eyes closed, means when they were recording the EEG signal the patient had their eyes closed\n",
        "    - 3 - They identify where the region of the tumor was in the brain and recording the EEG activity from healthy area\n",
        "    - 2 - They recorder the EEG from the area where the tumor was located\n",
        "- 1 - Recording of seizure activity\n",
        "\n",
        "\n",
        "Andrzejak RG, Lehnertz K, Rieke C, Mormann F, David P, Elger CE (2001) Indications of nonlinear deterministic and finite dimensional structures in time series of brain electrical activity: Dependence on recording region and brain state, Phys. Rev. E, 64, 061907"
      ]
    },
    {
      "cell_type": "markdown",
      "metadata": {
        "id": "3jdBB9LRpPRt",
        "colab_type": "text"
      },
      "source": [
        "## Goal and strategy\n",
        "- Goal: \n",
        "    - Use EEG traces to differentiate states/conditions of subjects\n",
        "    - Compare performace with and without **\"preprocessing\"** (temporal convolution)\n",
        "- Strategy\n",
        "    - Use a few temporal convolusion layers to extract temporal features (ref, [Amodei et al. 2016](https://arxiv.org/abs/1512.02595), [Ballinger et al. 2018](https://arxiv.org/abs/1802.02511))\n",
        "    - Followed by bidirectional LSTM layers \n",
        "    - Finally piped into dense layers for softmax prediction\n"
      ]
    },
    {
      "cell_type": "markdown",
      "metadata": {
        "id": "IjjSYrccoRsv",
        "colab_type": "text"
      },
      "source": [
        "## Load packages"
      ]
    },
    {
      "cell_type": "code",
      "metadata": {
        "id": "44sZu5hcYW9A",
        "colab_type": "code",
        "colab": {}
      },
      "source": [
        "import numpy as np\n",
        "import pandas as pd\n",
        "import matplotlib.pyplot as plt\n",
        "import seaborn as sns\n",
        "\n",
        "from sklearn.model_selection import train_test_split\n",
        "from sklearn.metrics import confusion_matrix, classification_report\n",
        "\n",
        "from tensorflow.keras.models import Model\n",
        "from tensorflow.keras.layers import Input, Dropout, BatchNormalization\n",
        "from tensorflow.keras.layers import Conv1D, MaxPooling1D\n",
        "from tensorflow.keras.layers import CuDNNLSTM, Bidirectional, Dense\n",
        "# from tensorflow.keras.initializers import glorot_uniform\n",
        "from tensorflow.keras.optimizers import Adam\n",
        "from tensorflow.keras.callbacks import ReduceLROnPlateau, EarlyStopping\n",
        "import tensorflow.keras.backend as K\n",
        "\n",
        "%matplotlib inline"
      ],
      "execution_count": 0,
      "outputs": []
    },
    {
      "cell_type": "markdown",
      "metadata": {
        "id": "7V_XNnhvo2CF",
        "colab_type": "text"
      },
      "source": [
        "# Data Preparation"
      ]
    },
    {
      "cell_type": "code",
      "metadata": {
        "id": "bdwaNKN3YW9F",
        "colab_type": "code",
        "outputId": "efb60b97-9e35-47a6-f389-1cb243301e24",
        "colab": {
          "base_uri": "https://localhost:8080/",
          "height": 300
        }
      },
      "source": [
        "#read in dataset from csv\n",
        "df = pd.read_csv(\"/content/data.csv\", index_col=0)\n",
        "df.index.name = \"sample id\"\n",
        "df.columns.name =\"timepoints\"\n",
        "print(f\"There are {len(df)} samples, each with 178 timestamps over 1 second (178Hz sampling rate)\")\n",
        "df.head() # a preview of the dataset"
      ],
      "execution_count": 3,
      "outputs": [
        {
          "output_type": "stream",
          "text": [
            "There are 11500 samples, each with 178 timestamps over 1 second (178Hz sampling rate)\n"
          ],
          "name": "stdout"
        },
        {
          "output_type": "execute_result",
          "data": {
            "text/html": [
              "<div>\n",
              "<style scoped>\n",
              "    .dataframe tbody tr th:only-of-type {\n",
              "        vertical-align: middle;\n",
              "    }\n",
              "\n",
              "    .dataframe tbody tr th {\n",
              "        vertical-align: top;\n",
              "    }\n",
              "\n",
              "    .dataframe thead th {\n",
              "        text-align: right;\n",
              "    }\n",
              "</style>\n",
              "<table border=\"1\" class=\"dataframe\">\n",
              "  <thead>\n",
              "    <tr style=\"text-align: right;\">\n",
              "      <th>timepoints</th>\n",
              "      <th>X1</th>\n",
              "      <th>X2</th>\n",
              "      <th>X3</th>\n",
              "      <th>X4</th>\n",
              "      <th>X5</th>\n",
              "      <th>X6</th>\n",
              "      <th>X7</th>\n",
              "      <th>X8</th>\n",
              "      <th>X9</th>\n",
              "      <th>X10</th>\n",
              "      <th>X11</th>\n",
              "      <th>X12</th>\n",
              "      <th>X13</th>\n",
              "      <th>X14</th>\n",
              "      <th>X15</th>\n",
              "      <th>X16</th>\n",
              "      <th>X17</th>\n",
              "      <th>X18</th>\n",
              "      <th>X19</th>\n",
              "      <th>X20</th>\n",
              "      <th>X21</th>\n",
              "      <th>X22</th>\n",
              "      <th>X23</th>\n",
              "      <th>X24</th>\n",
              "      <th>X25</th>\n",
              "      <th>X26</th>\n",
              "      <th>X27</th>\n",
              "      <th>X28</th>\n",
              "      <th>X29</th>\n",
              "      <th>X30</th>\n",
              "      <th>X31</th>\n",
              "      <th>X32</th>\n",
              "      <th>X33</th>\n",
              "      <th>X34</th>\n",
              "      <th>X35</th>\n",
              "      <th>X36</th>\n",
              "      <th>X37</th>\n",
              "      <th>X38</th>\n",
              "      <th>X39</th>\n",
              "      <th>X40</th>\n",
              "      <th>...</th>\n",
              "      <th>X140</th>\n",
              "      <th>X141</th>\n",
              "      <th>X142</th>\n",
              "      <th>X143</th>\n",
              "      <th>X144</th>\n",
              "      <th>X145</th>\n",
              "      <th>X146</th>\n",
              "      <th>X147</th>\n",
              "      <th>X148</th>\n",
              "      <th>X149</th>\n",
              "      <th>X150</th>\n",
              "      <th>X151</th>\n",
              "      <th>X152</th>\n",
              "      <th>X153</th>\n",
              "      <th>X154</th>\n",
              "      <th>X155</th>\n",
              "      <th>X156</th>\n",
              "      <th>X157</th>\n",
              "      <th>X158</th>\n",
              "      <th>X159</th>\n",
              "      <th>X160</th>\n",
              "      <th>X161</th>\n",
              "      <th>X162</th>\n",
              "      <th>X163</th>\n",
              "      <th>X164</th>\n",
              "      <th>X165</th>\n",
              "      <th>X166</th>\n",
              "      <th>X167</th>\n",
              "      <th>X168</th>\n",
              "      <th>X169</th>\n",
              "      <th>X170</th>\n",
              "      <th>X171</th>\n",
              "      <th>X172</th>\n",
              "      <th>X173</th>\n",
              "      <th>X174</th>\n",
              "      <th>X175</th>\n",
              "      <th>X176</th>\n",
              "      <th>X177</th>\n",
              "      <th>X178</th>\n",
              "      <th>y</th>\n",
              "    </tr>\n",
              "    <tr>\n",
              "      <th>sample id</th>\n",
              "      <th></th>\n",
              "      <th></th>\n",
              "      <th></th>\n",
              "      <th></th>\n",
              "      <th></th>\n",
              "      <th></th>\n",
              "      <th></th>\n",
              "      <th></th>\n",
              "      <th></th>\n",
              "      <th></th>\n",
              "      <th></th>\n",
              "      <th></th>\n",
              "      <th></th>\n",
              "      <th></th>\n",
              "      <th></th>\n",
              "      <th></th>\n",
              "      <th></th>\n",
              "      <th></th>\n",
              "      <th></th>\n",
              "      <th></th>\n",
              "      <th></th>\n",
              "      <th></th>\n",
              "      <th></th>\n",
              "      <th></th>\n",
              "      <th></th>\n",
              "      <th></th>\n",
              "      <th></th>\n",
              "      <th></th>\n",
              "      <th></th>\n",
              "      <th></th>\n",
              "      <th></th>\n",
              "      <th></th>\n",
              "      <th></th>\n",
              "      <th></th>\n",
              "      <th></th>\n",
              "      <th></th>\n",
              "      <th></th>\n",
              "      <th></th>\n",
              "      <th></th>\n",
              "      <th></th>\n",
              "      <th></th>\n",
              "      <th></th>\n",
              "      <th></th>\n",
              "      <th></th>\n",
              "      <th></th>\n",
              "      <th></th>\n",
              "      <th></th>\n",
              "      <th></th>\n",
              "      <th></th>\n",
              "      <th></th>\n",
              "      <th></th>\n",
              "      <th></th>\n",
              "      <th></th>\n",
              "      <th></th>\n",
              "      <th></th>\n",
              "      <th></th>\n",
              "      <th></th>\n",
              "      <th></th>\n",
              "      <th></th>\n",
              "      <th></th>\n",
              "      <th></th>\n",
              "      <th></th>\n",
              "      <th></th>\n",
              "      <th></th>\n",
              "      <th></th>\n",
              "      <th></th>\n",
              "      <th></th>\n",
              "      <th></th>\n",
              "      <th></th>\n",
              "      <th></th>\n",
              "      <th></th>\n",
              "      <th></th>\n",
              "      <th></th>\n",
              "      <th></th>\n",
              "      <th></th>\n",
              "      <th></th>\n",
              "      <th></th>\n",
              "      <th></th>\n",
              "      <th></th>\n",
              "      <th></th>\n",
              "      <th></th>\n",
              "    </tr>\n",
              "  </thead>\n",
              "  <tbody>\n",
              "    <tr>\n",
              "      <th>X21.V1.791</th>\n",
              "      <td>135</td>\n",
              "      <td>190</td>\n",
              "      <td>229</td>\n",
              "      <td>223</td>\n",
              "      <td>192</td>\n",
              "      <td>125</td>\n",
              "      <td>55</td>\n",
              "      <td>-9</td>\n",
              "      <td>-33</td>\n",
              "      <td>-38</td>\n",
              "      <td>-10</td>\n",
              "      <td>35</td>\n",
              "      <td>64</td>\n",
              "      <td>113</td>\n",
              "      <td>152</td>\n",
              "      <td>164</td>\n",
              "      <td>127</td>\n",
              "      <td>50</td>\n",
              "      <td>-47</td>\n",
              "      <td>-121</td>\n",
              "      <td>-138</td>\n",
              "      <td>-125</td>\n",
              "      <td>-101</td>\n",
              "      <td>-50</td>\n",
              "      <td>11</td>\n",
              "      <td>39</td>\n",
              "      <td>24</td>\n",
              "      <td>48</td>\n",
              "      <td>64</td>\n",
              "      <td>46</td>\n",
              "      <td>13</td>\n",
              "      <td>-19</td>\n",
              "      <td>-61</td>\n",
              "      <td>-96</td>\n",
              "      <td>-130</td>\n",
              "      <td>-132</td>\n",
              "      <td>-116</td>\n",
              "      <td>-115</td>\n",
              "      <td>-71</td>\n",
              "      <td>-14</td>\n",
              "      <td>...</td>\n",
              "      <td>54</td>\n",
              "      <td>90</td>\n",
              "      <td>111</td>\n",
              "      <td>107</td>\n",
              "      <td>64</td>\n",
              "      <td>32</td>\n",
              "      <td>18</td>\n",
              "      <td>-25</td>\n",
              "      <td>-69</td>\n",
              "      <td>-65</td>\n",
              "      <td>-44</td>\n",
              "      <td>-33</td>\n",
              "      <td>-57</td>\n",
              "      <td>-88</td>\n",
              "      <td>-114</td>\n",
              "      <td>-130</td>\n",
              "      <td>-114</td>\n",
              "      <td>-83</td>\n",
              "      <td>-53</td>\n",
              "      <td>-79</td>\n",
              "      <td>-72</td>\n",
              "      <td>-85</td>\n",
              "      <td>-109</td>\n",
              "      <td>-98</td>\n",
              "      <td>-72</td>\n",
              "      <td>-65</td>\n",
              "      <td>-63</td>\n",
              "      <td>-11</td>\n",
              "      <td>10</td>\n",
              "      <td>8</td>\n",
              "      <td>-17</td>\n",
              "      <td>-15</td>\n",
              "      <td>-31</td>\n",
              "      <td>-77</td>\n",
              "      <td>-103</td>\n",
              "      <td>-127</td>\n",
              "      <td>-116</td>\n",
              "      <td>-83</td>\n",
              "      <td>-51</td>\n",
              "      <td>4</td>\n",
              "    </tr>\n",
              "    <tr>\n",
              "      <th>X15.V1.924</th>\n",
              "      <td>386</td>\n",
              "      <td>382</td>\n",
              "      <td>356</td>\n",
              "      <td>331</td>\n",
              "      <td>320</td>\n",
              "      <td>315</td>\n",
              "      <td>307</td>\n",
              "      <td>272</td>\n",
              "      <td>244</td>\n",
              "      <td>232</td>\n",
              "      <td>237</td>\n",
              "      <td>258</td>\n",
              "      <td>212</td>\n",
              "      <td>2</td>\n",
              "      <td>-267</td>\n",
              "      <td>-605</td>\n",
              "      <td>-850</td>\n",
              "      <td>-1001</td>\n",
              "      <td>-1109</td>\n",
              "      <td>-1090</td>\n",
              "      <td>-967</td>\n",
              "      <td>-746</td>\n",
              "      <td>-464</td>\n",
              "      <td>-152</td>\n",
              "      <td>118</td>\n",
              "      <td>318</td>\n",
              "      <td>427</td>\n",
              "      <td>473</td>\n",
              "      <td>485</td>\n",
              "      <td>447</td>\n",
              "      <td>397</td>\n",
              "      <td>339</td>\n",
              "      <td>312</td>\n",
              "      <td>314</td>\n",
              "      <td>326</td>\n",
              "      <td>335</td>\n",
              "      <td>332</td>\n",
              "      <td>324</td>\n",
              "      <td>310</td>\n",
              "      <td>312</td>\n",
              "      <td>...</td>\n",
              "      <td>27</td>\n",
              "      <td>146</td>\n",
              "      <td>229</td>\n",
              "      <td>269</td>\n",
              "      <td>297</td>\n",
              "      <td>307</td>\n",
              "      <td>303</td>\n",
              "      <td>305</td>\n",
              "      <td>306</td>\n",
              "      <td>307</td>\n",
              "      <td>280</td>\n",
              "      <td>231</td>\n",
              "      <td>159</td>\n",
              "      <td>85</td>\n",
              "      <td>51</td>\n",
              "      <td>43</td>\n",
              "      <td>62</td>\n",
              "      <td>63</td>\n",
              "      <td>63</td>\n",
              "      <td>69</td>\n",
              "      <td>89</td>\n",
              "      <td>123</td>\n",
              "      <td>136</td>\n",
              "      <td>127</td>\n",
              "      <td>102</td>\n",
              "      <td>95</td>\n",
              "      <td>105</td>\n",
              "      <td>131</td>\n",
              "      <td>163</td>\n",
              "      <td>168</td>\n",
              "      <td>164</td>\n",
              "      <td>150</td>\n",
              "      <td>146</td>\n",
              "      <td>152</td>\n",
              "      <td>157</td>\n",
              "      <td>156</td>\n",
              "      <td>154</td>\n",
              "      <td>143</td>\n",
              "      <td>129</td>\n",
              "      <td>1</td>\n",
              "    </tr>\n",
              "    <tr>\n",
              "      <th>X8.V1.1</th>\n",
              "      <td>-32</td>\n",
              "      <td>-39</td>\n",
              "      <td>-47</td>\n",
              "      <td>-37</td>\n",
              "      <td>-32</td>\n",
              "      <td>-36</td>\n",
              "      <td>-57</td>\n",
              "      <td>-73</td>\n",
              "      <td>-85</td>\n",
              "      <td>-94</td>\n",
              "      <td>-99</td>\n",
              "      <td>-94</td>\n",
              "      <td>-96</td>\n",
              "      <td>-104</td>\n",
              "      <td>-103</td>\n",
              "      <td>-92</td>\n",
              "      <td>-75</td>\n",
              "      <td>-69</td>\n",
              "      <td>-69</td>\n",
              "      <td>-53</td>\n",
              "      <td>-37</td>\n",
              "      <td>-14</td>\n",
              "      <td>-10</td>\n",
              "      <td>-39</td>\n",
              "      <td>-78</td>\n",
              "      <td>-102</td>\n",
              "      <td>-98</td>\n",
              "      <td>-80</td>\n",
              "      <td>-54</td>\n",
              "      <td>-40</td>\n",
              "      <td>-35</td>\n",
              "      <td>-39</td>\n",
              "      <td>-32</td>\n",
              "      <td>-13</td>\n",
              "      <td>7</td>\n",
              "      <td>34</td>\n",
              "      <td>41</td>\n",
              "      <td>33</td>\n",
              "      <td>6</td>\n",
              "      <td>-15</td>\n",
              "      <td>...</td>\n",
              "      <td>-82</td>\n",
              "      <td>-107</td>\n",
              "      <td>-126</td>\n",
              "      <td>-124</td>\n",
              "      <td>-108</td>\n",
              "      <td>-84</td>\n",
              "      <td>-68</td>\n",
              "      <td>-61</td>\n",
              "      <td>-56</td>\n",
              "      <td>-63</td>\n",
              "      <td>-62</td>\n",
              "      <td>-33</td>\n",
              "      <td>1</td>\n",
              "      <td>28</td>\n",
              "      <td>45</td>\n",
              "      <td>37</td>\n",
              "      <td>48</td>\n",
              "      <td>62</td>\n",
              "      <td>80</td>\n",
              "      <td>66</td>\n",
              "      <td>23</td>\n",
              "      <td>-11</td>\n",
              "      <td>-39</td>\n",
              "      <td>-44</td>\n",
              "      <td>-42</td>\n",
              "      <td>-45</td>\n",
              "      <td>-48</td>\n",
              "      <td>-42</td>\n",
              "      <td>-6</td>\n",
              "      <td>29</td>\n",
              "      <td>57</td>\n",
              "      <td>64</td>\n",
              "      <td>48</td>\n",
              "      <td>19</td>\n",
              "      <td>-12</td>\n",
              "      <td>-30</td>\n",
              "      <td>-35</td>\n",
              "      <td>-35</td>\n",
              "      <td>-36</td>\n",
              "      <td>5</td>\n",
              "    </tr>\n",
              "    <tr>\n",
              "      <th>X16.V1.60</th>\n",
              "      <td>-105</td>\n",
              "      <td>-101</td>\n",
              "      <td>-96</td>\n",
              "      <td>-92</td>\n",
              "      <td>-89</td>\n",
              "      <td>-95</td>\n",
              "      <td>-102</td>\n",
              "      <td>-100</td>\n",
              "      <td>-87</td>\n",
              "      <td>-79</td>\n",
              "      <td>-72</td>\n",
              "      <td>-68</td>\n",
              "      <td>-74</td>\n",
              "      <td>-80</td>\n",
              "      <td>-83</td>\n",
              "      <td>-73</td>\n",
              "      <td>-68</td>\n",
              "      <td>-61</td>\n",
              "      <td>-58</td>\n",
              "      <td>-59</td>\n",
              "      <td>-64</td>\n",
              "      <td>-79</td>\n",
              "      <td>-84</td>\n",
              "      <td>-97</td>\n",
              "      <td>-94</td>\n",
              "      <td>-84</td>\n",
              "      <td>-77</td>\n",
              "      <td>-75</td>\n",
              "      <td>-72</td>\n",
              "      <td>-68</td>\n",
              "      <td>-76</td>\n",
              "      <td>-76</td>\n",
              "      <td>-72</td>\n",
              "      <td>-67</td>\n",
              "      <td>-69</td>\n",
              "      <td>-69</td>\n",
              "      <td>-69</td>\n",
              "      <td>-67</td>\n",
              "      <td>-68</td>\n",
              "      <td>-69</td>\n",
              "      <td>...</td>\n",
              "      <td>-69</td>\n",
              "      <td>-66</td>\n",
              "      <td>-74</td>\n",
              "      <td>-69</td>\n",
              "      <td>-61</td>\n",
              "      <td>-51</td>\n",
              "      <td>-45</td>\n",
              "      <td>-45</td>\n",
              "      <td>-49</td>\n",
              "      <td>-58</td>\n",
              "      <td>-64</td>\n",
              "      <td>-78</td>\n",
              "      <td>-80</td>\n",
              "      <td>-90</td>\n",
              "      <td>-87</td>\n",
              "      <td>-83</td>\n",
              "      <td>-78</td>\n",
              "      <td>-64</td>\n",
              "      <td>-38</td>\n",
              "      <td>-22</td>\n",
              "      <td>-29</td>\n",
              "      <td>-42</td>\n",
              "      <td>-51</td>\n",
              "      <td>-68</td>\n",
              "      <td>-71</td>\n",
              "      <td>-69</td>\n",
              "      <td>-69</td>\n",
              "      <td>-74</td>\n",
              "      <td>-74</td>\n",
              "      <td>-80</td>\n",
              "      <td>-82</td>\n",
              "      <td>-81</td>\n",
              "      <td>-80</td>\n",
              "      <td>-77</td>\n",
              "      <td>-85</td>\n",
              "      <td>-77</td>\n",
              "      <td>-72</td>\n",
              "      <td>-69</td>\n",
              "      <td>-65</td>\n",
              "      <td>5</td>\n",
              "    </tr>\n",
              "    <tr>\n",
              "      <th>X20.V1.54</th>\n",
              "      <td>-9</td>\n",
              "      <td>-65</td>\n",
              "      <td>-98</td>\n",
              "      <td>-102</td>\n",
              "      <td>-78</td>\n",
              "      <td>-48</td>\n",
              "      <td>-16</td>\n",
              "      <td>0</td>\n",
              "      <td>-21</td>\n",
              "      <td>-59</td>\n",
              "      <td>-90</td>\n",
              "      <td>-103</td>\n",
              "      <td>-84</td>\n",
              "      <td>-43</td>\n",
              "      <td>-9</td>\n",
              "      <td>3</td>\n",
              "      <td>-21</td>\n",
              "      <td>-60</td>\n",
              "      <td>-96</td>\n",
              "      <td>-103</td>\n",
              "      <td>-75</td>\n",
              "      <td>-29</td>\n",
              "      <td>14</td>\n",
              "      <td>55</td>\n",
              "      <td>78</td>\n",
              "      <td>73</td>\n",
              "      <td>28</td>\n",
              "      <td>-13</td>\n",
              "      <td>-43</td>\n",
              "      <td>-68</td>\n",
              "      <td>-78</td>\n",
              "      <td>-75</td>\n",
              "      <td>-55</td>\n",
              "      <td>-41</td>\n",
              "      <td>-19</td>\n",
              "      <td>-20</td>\n",
              "      <td>-29</td>\n",
              "      <td>-36</td>\n",
              "      <td>-20</td>\n",
              "      <td>1</td>\n",
              "      <td>...</td>\n",
              "      <td>38</td>\n",
              "      <td>26</td>\n",
              "      <td>10</td>\n",
              "      <td>-4</td>\n",
              "      <td>-13</td>\n",
              "      <td>-8</td>\n",
              "      <td>0</td>\n",
              "      <td>10</td>\n",
              "      <td>19</td>\n",
              "      <td>29</td>\n",
              "      <td>57</td>\n",
              "      <td>63</td>\n",
              "      <td>45</td>\n",
              "      <td>7</td>\n",
              "      <td>-13</td>\n",
              "      <td>-23</td>\n",
              "      <td>-9</td>\n",
              "      <td>9</td>\n",
              "      <td>11</td>\n",
              "      <td>3</td>\n",
              "      <td>-1</td>\n",
              "      <td>-2</td>\n",
              "      <td>4</td>\n",
              "      <td>18</td>\n",
              "      <td>27</td>\n",
              "      <td>27</td>\n",
              "      <td>14</td>\n",
              "      <td>15</td>\n",
              "      <td>11</td>\n",
              "      <td>10</td>\n",
              "      <td>4</td>\n",
              "      <td>2</td>\n",
              "      <td>-12</td>\n",
              "      <td>-32</td>\n",
              "      <td>-41</td>\n",
              "      <td>-65</td>\n",
              "      <td>-83</td>\n",
              "      <td>-89</td>\n",
              "      <td>-73</td>\n",
              "      <td>5</td>\n",
              "    </tr>\n",
              "  </tbody>\n",
              "</table>\n",
              "<p>5 rows × 179 columns</p>\n",
              "</div>"
            ],
            "text/plain": [
              "timepoints   X1   X2   X3   X4   X5   X6  ...  X174  X175  X176  X177  X178  y\n",
              "sample id                                 ...                                 \n",
              "X21.V1.791  135  190  229  223  192  125  ...  -103  -127  -116   -83   -51  4\n",
              "X15.V1.924  386  382  356  331  320  315  ...   157   156   154   143   129  1\n",
              "X8.V1.1     -32  -39  -47  -37  -32  -36  ...   -12   -30   -35   -35   -36  5\n",
              "X16.V1.60  -105 -101  -96  -92  -89  -95  ...   -85   -77   -72   -69   -65  5\n",
              "X20.V1.54    -9  -65  -98 -102  -78  -48  ...   -41   -65   -83   -89   -73  5\n",
              "\n",
              "[5 rows x 179 columns]"
            ]
          },
          "metadata": {
            "tags": []
          },
          "execution_count": 3
        }
      ]
    },
    {
      "cell_type": "markdown",
      "metadata": {
        "id": "jGSwmMCeoi3O",
        "colab_type": "text"
      },
      "source": [
        "## Visualize sample EEG traces"
      ]
    },
    {
      "cell_type": "code",
      "metadata": {
        "id": "GycEOFHfYW9J",
        "colab_type": "code",
        "outputId": "2b90f60c-6aae-4c47-fd65-b27988d86017",
        "colab": {
          "base_uri": "https://localhost:8080/",
          "height": 227
        }
      },
      "source": [
        "# Show random samples from each group\n",
        "_, axes = plt.subplots(nrows=1, ncols=5, figsize=(12,3), sharey=True)\n",
        "\n",
        "num_showing = 10  # number of traces showing from each group\n",
        "labels = [\"Epileptic\", \"Tumor_TumorArea\", \"Tumor_HealthyArea\", \"Healty_EyeClose\", \"Healthy_EyeOpen\"]\n",
        "\n",
        "for i, ax in enumerate(axes.flat):\n",
        "    ax.set_title(labels[i])\n",
        "    ax.set(xticks=np.arange(0,185,60))\n",
        "    samples = df[df[\"y\"] == (i+1)].sample(num_showing)\n",
        "    for sample in range(len(samples)):\n",
        "        ax.plot(np.arange(0,178,1), samples.iloc[sample, :-1])\n"
      ],
      "execution_count": 4,
      "outputs": [
        {
          "output_type": "display_data",
          "data": {
            "image/png": "[encoded data removed]",
            "text/plain": [
              "<Figure size 864x216 with 5 Axes>"
            ]
          },
          "metadata": {
            "tags": []
          }
        }
      ]
    },
    {
      "cell_type": "markdown",
      "metadata": {
        "id": "aGQFG27lsHKN",
        "colab_type": "text"
      },
      "source": [
        "## Split train_test data"
      ]
    },
    {
      "cell_type": "code",
      "metadata": {
        "id": "Qr3bVcqbYW9H",
        "colab_type": "code",
        "outputId": "b30d405a-7791-40a8-87ca-8fd73671bf72",
        "colab": {
          "base_uri": "https://localhost:8080/",
          "height": 87
        }
      },
      "source": [
        "# split pandas dataframe to 90:10 for training and testing\n",
        "train_X, test_X, train_y, test_y = train_test_split(\n",
        "    df.iloc[:, :-1], \n",
        "    df.iloc[:, -1], \n",
        "    test_size=0.1,\n",
        "    random_state=41\n",
        ")\n",
        "\n",
        "# m_train, m_test: number of samples in train/test \n",
        "# Tx: number of timestamps\n",
        "m_train, Tx = train_X.shape \n",
        "m_test = test_X.shape[0]\n",
        "\n",
        "# convert to numpy array. Keras does not take panads dataframe\n",
        "train_X = train_X.to_numpy().reshape(m_train, Tx, 1)\n",
        "test_X = test_X.to_numpy().reshape(m_test, Tx, 1)\n",
        "\n",
        "# convert label to one-hot\n",
        "output_class = 5 # there are 5 possible predictions\n",
        "# train_y range from 1-5. Make it from 0-4\n",
        "train_y_OH = np.eye(output_class)[train_y-1]\n",
        "test_y_OH = np.eye(output_class)[test_y-1]\n",
        "\n",
        "print(f\"train_X shape: {train_X.shape}\")\n",
        "print(f\"train_y_OH shape: {train_y_OH.shape}\")\n",
        "\n",
        "print(f\"test_X shape: {test_X.shape}\")\n",
        "print(f\"test_y_OH shape: {test_y_OH.shape}\")"
      ],
      "execution_count": 5,
      "outputs": [
        {
          "output_type": "stream",
          "text": [
            "train_X shape: (10350, 178, 1)\n",
            "train_y_OH shape: (10350, 5)\n",
            "test_X shape: (1150, 178, 1)\n",
            "test_y_OH shape: (1150, 5)\n"
          ],
          "name": "stdout"
        }
      ]
    },
    {
      "cell_type": "markdown",
      "metadata": {
        "id": "pBh42_sQsp8U",
        "colab_type": "text"
      },
      "source": [
        "## Check sample balance\n",
        "- This dataset is preprocessed and balanced, but it is a good practice to check\n",
        "- Had the sample size not been balanced, we would need to get class weights in a dictionary and feed that into fit() during training"
      ]
    },
    {
      "cell_type": "code",
      "metadata": {
        "id": "iV6WXeUcuPEn",
        "colab_type": "code",
        "outputId": "902f685c-4f95-4407-d783-032649faada1",
        "colab": {
          "base_uri": "https://localhost:8080/",
          "height": 252
        }
      },
      "source": [
        "# check training sample balance\n",
        "balance_df = pd.DataFrame(\n",
        "    {\n",
        "    \"train\": train_y.value_counts(),\n",
        "    \"test\": test_y.value_counts()\n",
        "    }\n",
        " )\n",
        "\n",
        "balance_df.index.name = \"condition label\"\n",
        "\n",
        "print(\"No further balance is needed.\")\n",
        "\n",
        "balance_df"
      ],
      "execution_count": 6,
      "outputs": [
        {
          "output_type": "stream",
          "text": [
            "No further balance is needed.\n"
          ],
          "name": "stdout"
        },
        {
          "output_type": "execute_result",
          "data": {
            "text/html": [
              "<div>\n",
              "<style scoped>\n",
              "    .dataframe tbody tr th:only-of-type {\n",
              "        vertical-align: middle;\n",
              "    }\n",
              "\n",
              "    .dataframe tbody tr th {\n",
              "        vertical-align: top;\n",
              "    }\n",
              "\n",
              "    .dataframe thead th {\n",
              "        text-align: right;\n",
              "    }\n",
              "</style>\n",
              "<table border=\"1\" class=\"dataframe\">\n",
              "  <thead>\n",
              "    <tr style=\"text-align: right;\">\n",
              "      <th></th>\n",
              "      <th>train</th>\n",
              "      <th>test</th>\n",
              "    </tr>\n",
              "    <tr>\n",
              "      <th>condition label</th>\n",
              "      <th></th>\n",
              "      <th></th>\n",
              "    </tr>\n",
              "  </thead>\n",
              "  <tbody>\n",
              "    <tr>\n",
              "      <th>1</th>\n",
              "      <td>2093</td>\n",
              "      <td>207</td>\n",
              "    </tr>\n",
              "    <tr>\n",
              "      <th>2</th>\n",
              "      <td>2065</td>\n",
              "      <td>235</td>\n",
              "    </tr>\n",
              "    <tr>\n",
              "      <th>3</th>\n",
              "      <td>2069</td>\n",
              "      <td>231</td>\n",
              "    </tr>\n",
              "    <tr>\n",
              "      <th>4</th>\n",
              "      <td>2074</td>\n",
              "      <td>226</td>\n",
              "    </tr>\n",
              "    <tr>\n",
              "      <th>5</th>\n",
              "      <td>2049</td>\n",
              "      <td>251</td>\n",
              "    </tr>\n",
              "  </tbody>\n",
              "</table>\n",
              "</div>"
            ],
            "text/plain": [
              "                 train  test\n",
              "condition label             \n",
              "1                 2093   207\n",
              "2                 2065   235\n",
              "3                 2069   231\n",
              "4                 2074   226\n",
              "5                 2049   251"
            ]
          },
          "metadata": {
            "tags": []
          },
          "execution_count": 6
        }
      ]
    },
    {
      "cell_type": "markdown",
      "metadata": {
        "id": "frv4FER2tPk0",
        "colab_type": "text"
      },
      "source": [
        "# Define model and train"
      ]
    },
    {
      "cell_type": "markdown",
      "metadata": {
        "id": "MxIfP37T_MEm",
        "colab_type": "text"
      },
      "source": [
        "## Model structure\n",
        "\n",
        "#### 3 Conv1D blocks:\n",
        "- Conv1D --> BatchNorm --> Dropout --> MaxPooling\n",
        "\n",
        "#### 3 LSTM blocks:\n",
        "- Bidirectional LSTM --> Dropout\n",
        "    - some suggest BatchNorm is not suitable for RNN\n",
        "    - It is unclear whether BatchNorm should be employed with RNN/LSTM-RNN [Cooijmans et al. 2017](https://arxiv.org/abs/1603.09025)\n",
        "\n",
        "#### Final Dense layer\n",
        "- Dense --> BatchNorm --> Dropout --> Dense softmax output"
      ]
    },
    {
      "cell_type": "code",
      "metadata": {
        "id": "uBR2FxjBo2rv",
        "colab_type": "code",
        "colab": {}
      },
      "source": [
        "def LSTM_model(Tx, name, temporal_conv=True):\n",
        "    \n",
        "    '''\n",
        "    Tx: int, timesteps in the data\n",
        "    name: name of the model\n",
        "    temporal_conv: Bool, apply Conv1D before LSTM\n",
        "    '''\n",
        "    \n",
        "    layer_count=0 # for tracking layer names\n",
        "    X_input = Input(shape=(Tx,1), name=f\"input_{layer_count}\")\n",
        "    X = X_input\n",
        "\n",
        "    if temporal_conv:\n",
        "        layer_count += 1\n",
        "        X = Conv1D(128, kernel_size=3, padding=\"valid\", activation=\"relu\", name=f\"Conv_{layer_count}\")(X)\n",
        "        X = BatchNormalization(name=f\"BN_{layer_count}\")(X)\n",
        "        X = Dropout(0.25, name=f\"DP_{layer_count}\")(X)\n",
        "        X = MaxPooling1D(pool_size=2, name=f\"MP_{layer_count}\")(X)\n",
        "        \n",
        "        layer_count += 1\n",
        "        X = Conv1D(128, kernel_size=5, padding=\"valid\", activation=\"relu\", name=f\"Conv_{layer_count}\")(X)\n",
        "        X = BatchNormalization(name=f\"BN_{layer_count}\")(X)\n",
        "        X = Dropout(0.25, name=f\"DP_{layer_count}\")(X)\n",
        "        X = MaxPooling1D(pool_size=2, name=f\"MP_{layer_count}\")(X)\n",
        "\n",
        "        \n",
        "        layer_count += 1\n",
        "        X = Conv1D(128, kernel_size=5, padding=\"valid\", activation=\"relu\", name=f\"Conv_{layer_count}\")(X)\n",
        "        X = BatchNormalization(name=f\"BN_{layer_count}\")(X)\n",
        "        X = Dropout(0.25, name=f\"DP_{layer_count}\")(X)\n",
        "        X = MaxPooling1D(pool_size=2, name=f\"MP_{layer_count}\")(X)\n",
        "\n",
        "    layer_count += 1\n",
        "    X = Bidirectional(CuDNNLSTM(128, return_sequences=True, kernel_regularizer=\"l2\"), name=f\"BiLSTM_{layer_count}\")(X)\n",
        "    X = Dropout(0.25, name=f\"DP_{layer_count}\")(X)\n",
        "\n",
        "    layer_count += 1\n",
        "    X = Bidirectional(CuDNNLSTM(128, return_sequences=True, kernel_regularizer=\"l2\"), name=f\"BiLSTM_{layer_count}\")(X)\n",
        "    X = Dropout(0.25, name=f\"DP_{layer_count}\")(X)\n",
        "\n",
        "    layer_count += 1    \n",
        "    X = Bidirectional(CuDNNLSTM(128, kernel_regularizer=\"l2\"), name=f\"BiLSTM_{layer_count}\")(X)\n",
        "    X = Dropout(0.25, name=f\"DP_{layer_count}\")(X)\n",
        "    \n",
        "    layer_count += 1\n",
        "    X = Dense(128, activation=\"relu\", name=f\"Dense_{layer_count}\")(X)\n",
        "    X = BatchNormalization(name=f\"BN_{layer_count}\")(X)\n",
        "    X = Dropout(0.25, name=f\"DP_{layer_count}\")(X)\n",
        "\n",
        "    output = Dense(5, activation=\"softmax\", name=\"output\")(X)\n",
        "\n",
        "    model = Model(inputs=X_input, outputs=output, name=name)\n",
        "\n",
        "    return model\n"
      ],
      "execution_count": 0,
      "outputs": []
    },
    {
      "cell_type": "markdown",
      "metadata": {
        "id": "kVKfbOzaDSY1",
        "colab_type": "text"
      },
      "source": [
        "## Create model graph and train"
      ]
    },
    {
      "cell_type": "code",
      "metadata": {
        "id": "Af5JasWXpIMv",
        "colab_type": "code",
        "outputId": "aea03d8e-f502-4399-bd2f-c7e14cfa8ede",
        "colab": {
          "base_uri": "https://localhost:8080/",
          "height": 248
        }
      },
      "source": [
        "input_shape = train_X.shape[1]\n",
        "\n",
        "model_ntc = LSTM_model(Tx=input_shape, name=\"model_ntc\", temporal_conv=False)\n",
        "# model_ntc.summary()\n",
        "\n",
        "model_tc = LSTM_model(Tx=input_shape, name=\"model_tc\", temporal_conv=True)\n",
        "# model_tc.summary()"
      ],
      "execution_count": 8,
      "outputs": [
        {
          "output_type": "stream",
          "text": [
            "WARNING:tensorflow:From /usr/local/lib/python3.6/dist-packages/tensorflow_core/python/ops/init_ops.py:97: calling GlorotUniform.__init__ (from tensorflow.python.ops.init_ops) with dtype is deprecated and will be removed in a future version.\n",
            "Instructions for updating:\n",
            "Call initializer instance with the dtype argument instead of passing it to the constructor\n",
            "WARNING:tensorflow:From /usr/local/lib/python3.6/dist-packages/tensorflow_core/python/ops/init_ops.py:97: calling Orthogonal.__init__ (from tensorflow.python.ops.init_ops) with dtype is deprecated and will be removed in a future version.\n",
            "Instructions for updating:\n",
            "Call initializer instance with the dtype argument instead of passing it to the constructor\n",
            "WARNING:tensorflow:From /usr/local/lib/python3.6/dist-packages/tensorflow_core/python/ops/init_ops.py:97: calling Zeros.__init__ (from tensorflow.python.ops.init_ops) with dtype is deprecated and will be removed in a future version.\n",
            "Instructions for updating:\n",
            "Call initializer instance with the dtype argument instead of passing it to the constructor\n",
            "WARNING:tensorflow:From /usr/local/lib/python3.6/dist-packages/tensorflow_core/python/ops/resource_variable_ops.py:1630: calling BaseResourceVariable.__init__ (from tensorflow.python.ops.resource_variable_ops) with constraint is deprecated and will be removed in a future version.\n",
            "Instructions for updating:\n",
            "If using Keras pass *_constraint arguments to layers.\n"
          ],
          "name": "stdout"
        }
      ]
    },
    {
      "cell_type": "code",
      "metadata": {
        "id": "UwQQv1iF6ILo",
        "colab_type": "code",
        "colab": {
          "base_uri": "https://localhost:8080/",
          "height": 369
        },
        "outputId": "7d87cc1d-027a-4dec-aaa0-d11dac216ff3"
      },
      "source": [
        "histories = {}\n",
        "\n",
        "for model in [model_ntc, model_tc]:\n",
        "\n",
        "    opt=Adam(lr=1e-3)\n",
        "\n",
        "    lr_reduction = ReduceLROnPlateau(\n",
        "        monitor=\"val_loss\",\n",
        "        factor=0.2, \n",
        "        patience=10, \n",
        "        verbose=1,\n",
        "        min_delta=1e-4,\n",
        "        cooldown=0,\n",
        "        min_lr=1e-6\n",
        "    )\n",
        "\n",
        "    early_stop = EarlyStopping(\n",
        "        monitor='val_loss', \n",
        "        min_delta=0, \n",
        "        patience=25, \n",
        "        verbose=1,\n",
        "    )\n",
        "\n",
        "    model.compile(optimizer=opt, loss=\"categorical_crossentropy\", metrics=[\"acc\"])\n",
        "    print(f\"Start training {model.name}\")\n",
        "\n",
        "    histories[model.name] = model.fit(\n",
        "        train_X, \n",
        "        train_y_OH,\n",
        "        validation_split=0.1, \n",
        "        batch_size=128, \n",
        "        epochs=150,\n",
        "        callbacks=[lr_reduction, early_stop],\n",
        "        verbose=0\n",
        "    )"
      ],
      "execution_count": 9,
      "outputs": [
        {
          "output_type": "stream",
          "text": [
            "Start training model_ntc\n",
            "\n",
            "Epoch 00036: ReduceLROnPlateau reducing learning rate to 0.00020000000949949026.\n",
            "\n",
            "Epoch 00048: ReduceLROnPlateau reducing learning rate to 4.0000001899898055e-05.\n",
            "\n",
            "Epoch 00058: ReduceLROnPlateau reducing learning rate to 8.000000525498762e-06.\n",
            "\n",
            "Epoch 00068: ReduceLROnPlateau reducing learning rate to 1.6000001778593287e-06.\n",
            "Epoch 00068: early stopping\n",
            "Start training model_tc\n",
            "\n",
            "Epoch 00046: ReduceLROnPlateau reducing learning rate to 0.00020000000949949026.\n",
            "\n",
            "Epoch 00078: ReduceLROnPlateau reducing learning rate to 4.0000001899898055e-05.\n",
            "\n",
            "Epoch 00088: ReduceLROnPlateau reducing learning rate to 8.000000525498762e-06.\n",
            "\n",
            "Epoch 00098: ReduceLROnPlateau reducing learning rate to 1.6000001778593287e-06.\n",
            "Epoch 00098: early stopping\n"
          ],
          "name": "stdout"
        }
      ]
    },
    {
      "cell_type": "code",
      "metadata": {
        "id": "ljum9S3zJRXz",
        "colab_type": "code",
        "colab": {
          "base_uri": "https://localhost:8080/",
          "height": 336
        },
        "outputId": "481f7506-45b9-4b80-e138-8ad761b70fc4"
      },
      "source": [
        "_, axes = plt.subplots(nrows=1, ncols=2, figsize=(12,5))\n",
        "\n",
        "for m, ax in zip([\"loss\", \"acc\"], axes.flat):\n",
        "    ax.plot(histories[\"model_ntc\"].history[m], label=\"no_TemporalConv\", color=\"C0\")\n",
        "    ax.plot(histories[\"model_ntc\"].history[f\"val_{m}\"], label=\"no_TemporalConv_val\", color=\"C0\", linestyle=\"--\")\n",
        "    ax.plot(histories[\"model_tc\"].history[m], label=\"with_TemporalConv\", color=\"C1\")\n",
        "    ax.plot(histories[\"model_tc\"].history[f\"val_{m}\"], label=\"with_TemporalConv_val\", color=\"C1\", linestyle=\"--\")\n",
        "    ax.set(title=m)\n",
        "    ax.legend()\n",
        "# axes[0].set(ylim=(0,10))\n",
        "# axes[1].set(ylim=(0.4,0.9))\n"
      ],
      "execution_count": 13,
      "outputs": [
        {
          "output_type": "display_data",
          "data": {
            "image/png": "[encoded data removed]",
            "text/plain": [
              "<Figure size 864x360 with 2 Axes>"
            ]
          },
          "metadata": {
            "tags": []
          }
        }
      ]
    },
    {
      "cell_type": "markdown",
      "metadata": {
        "id": "lbA2oDBlDlOv",
        "colab_type": "text"
      },
      "source": [
        "# Performance"
      ]
    },
    {
      "cell_type": "code",
      "metadata": {
        "id": "-Y7C6g1gfdHK",
        "colab_type": "code",
        "colab": {}
      },
      "source": [
        "pred_OH = model_tc.predict(test_X) # pred_OH shape (num_sample, num_class) values are prob\n",
        "pred = np.argmax(pred_OH, axis=-1) # get prediction class 0-4"
      ],
      "execution_count": 0,
      "outputs": []
    },
    {
      "cell_type": "code",
      "metadata": {
        "id": "SkL98Vu37r6v",
        "colab_type": "code",
        "colab": {
          "base_uri": "https://localhost:8080/",
          "height": 696
        },
        "outputId": "270a331b-e4c4-4fc2-d519-854f975a16ba"
      },
      "source": [
        "# test_y range from 1-5, covnert to 0-4\n",
        "groups = [\"Epileptic\", \"Tumor_TumorArea\", \"Tumor_HealthyArea\", \"Healty_EyeClose\", \"Healthy_EyeOpen\"]\n",
        "confusion = confusion_matrix(test_y-1, pred)\n",
        "\n",
        "report = classification_report(test_y-1, pred, target_names=groups)\n",
        "\n",
        "print(report)\n",
        "\n",
        "confusion = pd.DataFrame(confusion.T, index=[f\"{g}_pred\" for g in groups], columns=groups)\n",
        "plt.figure(figsize=(8,6))\n",
        "sns.heatmap(confusion, annot=True, annot_kws={\"size\":10}, cmap=\"Blues\")"
      ],
      "execution_count": 12,
      "outputs": [
        {
          "output_type": "stream",
          "text": [
            "                   precision    recall  f1-score   support\n",
            "\n",
            "        Epileptic       1.00      0.95      0.98       207\n",
            "  Tumor_TumorArea       0.80      0.70      0.75       235\n",
            "Tumor_HealthyArea       0.73      0.78      0.75       231\n",
            "  Healty_EyeClose       0.93      0.88      0.90       226\n",
            "  Healthy_EyeOpen       0.81      0.92      0.86       251\n",
            "\n",
            "         accuracy                           0.84      1150\n",
            "        macro avg       0.85      0.85      0.85      1150\n",
            "     weighted avg       0.85      0.84      0.84      1150\n",
            "\n"
          ],
          "name": "stdout"
        },
        {
          "output_type": "execute_result",
          "data": {
            "text/plain": [
              "<matplotlib.axes._subplots.AxesSubplot at 0x7f06b3fa6b38>"
            ]
          },
          "metadata": {
            "tags": []
          },
          "execution_count": 12
        },
        {
          "output_type": "display_data",
          "data": {
            "image/png": "[encoded data removed]",
            "text/plain": [
              "<Figure size 576x432 with 2 Axes>"
            ]
          },
          "metadata": {
            "tags": []
          }
        }
      ]
    },
    {
      "cell_type": "markdown",
      "metadata": {
        "id": "S81iEYShdJC2",
        "colab_type": "text"
      },
      "source": [
        "# Conclusion\n",
        "\n",
        "- Adding temporal conv layers before LSTM helps neural network learns faster and better. \n",
        "- In general, model_tc is performing well in differentiating major groups: healthy, tumor, epileptic; however, it is having a bit hard time telling minor groups: Tumor_TumorArea vs Tumor_HealthyArea and Healthy_EyeClose vs Healthy_EyeOpen.\n",
        "- Interestingly, 19 recordings from Tumor_healthyArea were classified as healthy_EyeOpen, suggesting the local neuronal activities are not affected by tumor mass. \n"
      ]
    },
    {
      "cell_type": "code",
      "metadata": {
        "id": "taZx50tXD2zn",
        "colab_type": "code",
        "colab": {}
      },
      "source": [
        ""
      ],
      "execution_count": 0,
      "outputs": []
    }
  ]
}